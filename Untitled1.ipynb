{
 "cells": [
  {
   "cell_type": "markdown",
   "id": "c8253c92-b190-4e14-be2c-f8674f88032c",
   "metadata": {},
   "source": [
    "# [Йорданія](https://uk.wikipedia.org/wiki/%D0%99%D0%BE%D1%80%D0%B4%D0%B0%D0%BD%D1%96%D1%8F)"
   ]
  },
  {
   "cell_type": "markdown",
   "id": "2bf61442-2212-4913-9dd7-183b0d7dd8da",
   "metadata": {},
   "source": [
    "**Йорда́нія** - країна, яка знаходиться на південному заході *Азії*, межує на півночі із *Сирією*, \n",
    "північному сході - з *Іраком*, на сході й південному сході - з *Саудівською Аравією*, на заході - з *Ізраїлем*. \n",
    "На півдні Йорданію омиває Акабська затока. Площа - 89 206 км. Західний берег був переданий Йорданії у 1950 році,\n",
    "але у 1967 році окупований Ізраїлем, площа 5879 км. Столиця країни - **Амман**."
   ]
  },
  {
   "cell_type": "markdown",
   "id": "37285815-d686-4efd-9227-e2300113331f",
   "metadata": {},
   "source": [
    "<div style=\"border: 2px solid black; padding: 10px; border-radius: 5px;\">\n",
    "    <font color=\"red\">Офіційною мовою є сучасний стандарт арабської мови (англ. Modern Standard Arabic, MSA)</font> — літературна мова, яку викладають у школах\n",
    "    .Більшість йорданців розмовляють на діалекті, відомому як йорданська арабська. Англійська, хоч і без офіційного статусу, широко\n",
    "    розповсюджена у країні та є де-факто мовою комерції й банкінгу, а також має спів-офіційний статус у сфері освіти: майже всі заняття в \n",
    "    університетах проводяться англійською та майже у всіх державних школах викладають англійську на рівні з арабською\n",
    "</div>"
   ]
  },
  {
   "cell_type": "code",
   "execution_count": 21,
   "id": "b160018c-b245-4c6b-8172-fdbba50ccf6d",
   "metadata": {},
   "outputs": [
    {
     "data": {
      "image/svg+xml": [
       "<svg xmlns=\"http://www.w3.org/2000/svg\" width=\"300\" height=\"200\">\n",
       "  <rect width=\"300\" height=\"66.67\" fill=\"#000\"/>\n",
       "  <rect width=\"300\" height=\"66.67\" y=\"66.67\" fill=\"#fff\"/>\n",
       "  <rect width=\"300\" height=\"66.67\" y=\"133.33\" fill=\"#007A33\"/>\n",
       "  <polygon points=\"0,0 100,100 0,200\" fill=\"#C8102E\"/>\n",
       "  <polygon points=\"20,100 24,112 37,112 26,120 30,132 20,125 10,132 14,120 3,112 16,112\" fill=\"#fff\"/>\n",
       "</svg>"
      ],
      "text/plain": [
       "<IPython.core.display.SVG object>"
      ]
     },
     "metadata": {},
     "output_type": "display_data"
    }
   ],
   "source": [
    "from IPython.display import SVG, display\n",
    "flag_svg = '''<svg width=\"300\" height=\"200\" xmlns=\"http://www.w3.org/2000/svg\">\n",
    "  <rect width=\"300\" height=\"66.67\" fill=\"#000\" />\n",
    "  <rect width=\"300\" height=\"66.67\" y=\"66.67\" fill=\"#fff\" />\n",
    "  <rect width=\"300\" height=\"66.67\" y=\"133.33\" fill=\"#007A33\" />\n",
    "  <polygon points=\"0,0 100,100 0,200\" fill=\"#C8102E\" />\n",
    "  <polygon points=\"20,100 24,112 37,112 26,120 30,132 20,125 10,132 14,120 3,112 16,112\" fill=\"#fff\" />\n",
    "</svg>'''\n",
    "display(SVG(data=flag_svg))\n"
   ]
  },
  {
   "cell_type": "markdown",
   "id": "62db9a64-47a5-4ec1-9536-ee2875169bd5",
   "metadata": {},
   "source": [
    "# Мапа Йорданії\n",
    "![map](https://uk.maps-jordan.com/img/0/%D0%99%D0%BE%D1%80%D0%B4%D0%B0%D0%BD%D1%96%D1%8F-%D0%BA%D0%B0%D1%80%D1%82%D0%B0-%D0%BA%D1%80%D0%B0%D1%97%D0%BD%D0%B8.jpg)"
   ]
  },
  {
   "cell_type": "markdown",
   "id": "b794122a-3a48-4c4d-9742-2c21b3f81b61",
   "metadata": {},
   "source": [
    "## Адміністртивний поділ\n",
    "| Мухафаза (укр.) | Мухафаза (англ.) | Адміністративний центр | Площа, км² | Населення (2004), осіб |\n",
    "|------------------|------------------|-------------------------|-------------|-------------------------|\n",
    "| Аджлун           | Ajlun            | Аджлун                  | 412         | 118 496                 |\n",
    "| Акаба            | Aqaba            | Акаба                   | 6 583       | 101 736                 |\n",
    "| Амман            | Amman            | Амман                   | 8 231       | 1 939 405               |\n",
    "| Джераш           | Jerash           | Джераш                  | 402         | 153 650                 |\n",
    "| Ірбід            | Irbid            | Ірбід                   | 1 621       | 925 736                 |\n",
    "| Маан             | Ma'an            | Маан                    | 33 163      | 92 672                  |\n",
    "| Мадаба           | Madaba           | Мадаба                  | 2 008       | 129 792                 |\n",
    "| Ез-Зарка        | Zarqa            | Ез-Зарка               | 4 080       | 774 569                 |\n",
    "| Ель-Балка       | Balqa            | Ес-Салт                 | 1 076       | 344 985                 |\n",
    "| Ель-Карак       | Kerak            | Ель-Карак               | 3 217       | 204 135                 |\n",
    "| Ель-Мафрак      | Mafraq           | Ель-Мафрак              | 26 435      | 240 515                 |\n",
    "| Ет-Тафіла       | Tafilah          | Ет-Тафіла               | 2 114       | 75 290                  |\n",
    "\n"
   ]
  },
  {
   "cell_type": "markdown",
   "id": "765d16d8-0b9f-49b0-b441-a4dde95238d4",
   "metadata": {},
   "source": [
    "## Найбільші міста Йорданії:\n",
    "1. Аманн\n",
    "2. Ез-Зарка\n",
    "3. Ірбід\n",
    "4. Ек-Руссайфа\n",
    "5. Ель-Кувайсіма"
   ]
  },
  {
   "cell_type": "markdown",
   "id": "a66b1681-7e90-4c29-be0c-ad39264c4ad9",
   "metadata": {},
   "source": [
    "## Географія\n",
    "  - Столиця\n",
    "    - Амман\n",
    "  - Ріка\n",
    "    - Йордан\n",
    "  - Сусідні країни\n",
    "    - Саудівська Аравія\n",
    "    - Ірак\n",
    "    - Ізраїль\n",
    "  - Природні особливості\n",
    "    - Ваді-Рам (долина місяця)\n",
    "    - Мертве море\n",
    "\n",
    "- **Культура**\n",
    "  - Мова\n",
    "    - Офіційна мова: арабська\n",
    "  - Релігія\n",
    "    - Основні релігії\n",
    "      - Іслам\n",
    "      - Християнство\n",
    "  - Традиції\n",
    "    - Святкування весіль\n",
    "    - Ханаанські свята\n",
    "\n",
    "- **Пам'ятки**\n",
    "  - Петра\n",
    "    - Давнє місто\n",
    "    - Археологічні знахідки\n",
    "  - Джераш\n",
    "    - Римські руїни\n",
    "    - Театр\n",
    "  - Червоне море\n",
    "    - Місто Акаба\n",
    "    - Підводне плавання\n",
    "\n",
    "- **Кухня**\n",
    "  - Національні страви\n",
    "    - Мансаф\n",
    "    - Хумус\n",
    "    - Таббуле\n",
    "  - Напої\n",
    "    - Чай з м'ятою\n",
    "    - Кава по-арабськи\n"
   ]
  },
  {
   "cell_type": "markdown",
   "id": "a88f8d02-2239-47b5-88b3-9cc43d3be61e",
   "metadata": {},
   "source": [
    "## Завадння 4\n"
   ]
  },
  {
   "cell_type": "code",
   "execution_count": 5,
   "id": "aeaceaf0-dcf6-434c-a649-8b75c1133f86",
   "metadata": {},
   "outputs": [],
   "source": [
    "def is_prime(n):\n",
    "    if n <= 1:\n",
    "        return False\n",
    "    for i in range(2, int(n**0.5) + 1):\n",
    "        if n % i == 0:\n",
    "            return False\n",
    "    return True\n",
    "\n",
    "def task6(start, end):\n",
    "    primes = []\n",
    "    for num in range(start, end + 1):\n",
    "        if is_prime(num):\n",
    "            primes.append(num)\n",
    "    return primes"
   ]
  },
  {
   "cell_type": "code",
   "execution_count": 6,
   "id": "b0414207-646e-434b-8f31-2199e67875f7",
   "metadata": {},
   "outputs": [
    {
     "data": {
      "text/plain": [
       "[2, 3, 5, 7]"
      ]
     },
     "execution_count": 6,
     "metadata": {},
     "output_type": "execute_result"
    }
   ],
   "source": [
    "task6(1,7)"
   ]
  },
  {
   "cell_type": "code",
   "execution_count": 7,
   "id": "7f97e437-40c9-4dbe-9a8c-70f602066e53",
   "metadata": {},
   "outputs": [
    {
     "data": {
      "text/plain": [
       "[5, 7, 11, 13, 17, 19]"
      ]
     },
     "execution_count": 7,
     "metadata": {},
     "output_type": "execute_result"
    }
   ],
   "source": [
    "task6(4,20)"
   ]
  },
  {
   "cell_type": "code",
   "execution_count": 8,
   "id": "bf8a7ef8-94f8-4813-ac1f-ca730cde449b",
   "metadata": {},
   "outputs": [
    {
     "data": {
      "text/plain": [
       "[5, 7, 11, 13, 17]"
      ]
     },
     "execution_count": 8,
     "metadata": {},
     "output_type": "execute_result"
    }
   ],
   "source": [
    "task6(5, 18)"
   ]
  },
  {
   "cell_type": "code",
   "execution_count": null,
   "id": "637618b4-8b6f-447b-98b1-d93d21c9c7dc",
   "metadata": {},
   "outputs": [],
   "source": []
  }
 ],
 "metadata": {
  "kernelspec": {
   "display_name": "Python 3 (ipykernel)",
   "language": "python",
   "name": "python3"
  },
  "language_info": {
   "codemirror_mode": {
    "name": "ipython",
    "version": 3
   },
   "file_extension": ".py",
   "mimetype": "text/x-python",
   "name": "python",
   "nbconvert_exporter": "python",
   "pygments_lexer": "ipython3",
   "version": "3.12.7"
  }
 },
 "nbformat": 4,
 "nbformat_minor": 5
}
